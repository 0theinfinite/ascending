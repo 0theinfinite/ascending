{
 "cells": [
  {
   "cell_type": "code",
   "execution_count": 33,
   "metadata": {},
   "outputs": [],
   "source": [
    "import requests\n",
    "from bs4 import BeautifulSoup\n",
    "import re\n",
    "import pandas as pd\n",
    "import time, os\n",
    "os.chdir(os.path.dirname(os.getcwd()))\n",
    "import json"
   ]
  },
  {
   "cell_type": "code",
   "execution_count": null,
   "metadata": {},
   "outputs": [],
   "source": [
    "# Load the links we want to scrap\n",
    "path = 'E:/_UChicago/MACS30122/final-project-ascending/'\n",
    "os.chdir(path)\n",
    "data = pd.read_csv('data/greatschools/schools_data_all_states.csv')\n",
    "urls = data.loc[:, ['universal-id', 'overview-url']].dropna()\n",
    "\n",
    "urls = ['https://www.greatschools.org/wisconsin/campbellsport/761-Wayne-Elementary-School/#Reviews']\n",
    "\n"
   ]
  },
  {
   "cell_type": "code",
   "execution_count": 28,
   "metadata": {},
   "outputs": [],
   "source": [
    "# Make a request to the page and parse the html with BeautifulSoup\n",
    "\n",
    "# Helper functions\n",
    "def get_request(url):\n",
    "    try:\n",
    "        r = requests.get(url)\n",
    "        if r.status_code == 200:\n",
    "            return BeautifulSoup(r.text, 'html5lib')\n",
    "        else:\n",
    "            return None\n",
    "    except:\n",
    "        return None\n"
   ]
  },
  {
   "cell_type": "code",
   "execution_count": 55,
   "metadata": {},
   "outputs": [],
   "source": [
    "def scrape_reviews_jsonld(url):\n",
    "    \"\"\"Scrape reviews from the JSON-LD <script> tag on a GreatSchools page.\"\"\"\n",
    "    try:\n",
    "        response = requests.get(url)\n",
    "        response.raise_for_status()\n",
    "    except requests.RequestException as e:\n",
    "        print(f\"Error accessing {url}: {e}\")\n",
    "        return []\n",
    "\n",
    "    soup = BeautifulSoup(response.text, 'html.parser')\n",
    "    \n",
    "# 1. Find the <script type=\"application/ld+json\"> that contains the reviews\n",
    "    script_tag = soup.find('script', attrs={'type': 'application/ld+json'})\n",
    "    if not script_tag:\n",
    "        print(\"No JSON-LD script tag found.\")\n",
    "        return NA\n",
    "\n",
    "    # 2. Parse the JSON text\n",
    "    try:\n",
    "        data = json.loads(script_tag.string)\n",
    "    except json.JSONDecodeError:\n",
    "        print(\"Error decoding JSON from the <script> tag.\")\n",
    "        return []\n",
    "    print(data)\n",
    "    # 3. Extract reviews from data[\"review\"], if present\n",
    "    reviews_list = data.get('review', [])\n",
    "    # all_reviews = []\n",
    "    # for review_obj in reviews_list:\n",
    "    #     # \"reviewBody\" is the text of the review\n",
    "    #     review_text = review_obj.get('reviewBody', '').strip()\n",
    "    #     all_reviews.append(review_text)\n",
    "\n",
    "    reviews = []\n",
    "\n",
    "    for review_obj in reviews_list:\n",
    "        # \"reviewBody\" is the text of the review\n",
    "        review = {}\n",
    "        review['identity'] = review_obj.get('anthor', '').strip()\n",
    "        review['date'] = review_obj.get('datePublished', '').strip()\n",
    "        review['reviewbody'] = review_obj.get('reviewBody', '').strip()\n",
    "        review['rating'] = None\n",
    "        if 'reviewRating' in review_obj:\n",
    "            review['rating'] = review_obj['reviewRating'].get('ratingValue', '').strip()\n",
    "        review['detailedRating'] = review_obj.get('detailedRating', '').strip()\n",
    "        # all_reviews.append(review_text)\n",
    "\n",
    "        reviews.append(review)\n",
    "    \n",
    "\n",
    "    # return all_reviews\n",
    "    return reviews"
   ]
  }
 ],
 "metadata": {
  "kernelspec": {
   "display_name": "base",
   "language": "python",
   "name": "python3"
  },
  "language_info": {
   "codemirror_mode": {
    "name": "ipython",
    "version": 3
   },
   "file_extension": ".py",
   "mimetype": "text/x-python",
   "name": "python",
   "nbconvert_exporter": "python",
   "pygments_lexer": "ipython3",
   "version": "3.9.12"
  }
 },
 "nbformat": 4,
 "nbformat_minor": 2
}
