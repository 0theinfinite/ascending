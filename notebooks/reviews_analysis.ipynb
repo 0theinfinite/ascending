{
 "cells": [
  {
   "cell_type": "code",
   "execution_count": 34,
   "metadata": {},
   "outputs": [],
   "source": [
    "import pandas as pd\n",
    "import numpy as np\n",
    "import matplotlib.pyplot as plt"
   ]
  },
  {
   "cell_type": "code",
   "execution_count": 35,
   "metadata": {},
   "outputs": [
    {
     "name": "stdout",
     "output_type": "stream",
     "text": [
      "Current working directory: /Users/huangyiyang/Desktop/Winter_2025/MACS30122/final-project-ascending\n",
      "Files in the current directory: ['course-materials(jan 22)', '.DS_Store', 'course-materials(Feb 10)', 'pa3-carrieeehuang', 'course-materials(Feb 19)', 'course-materials(jan 15)', 'pa1-carrieeehuang.zip', 'Project', 'scraper_20250221.log', 'course-materials(jan 27)', 'final-project-ascending', 'review_data_all_states.csv', '30122 PA3.pdf', 'course-materials(jan 13)', 'copy_pa2.py', 'course-materials(Feb 18)', 'course-materials(Feb 12)', 'course-materials(Feb 10-2)', 'ascending_macs', 'course-materials(jan 29)', 'pa1-carrieeehuang', '~$5_30122_FinalProject_Proposal.docx']\n",
      "File not found: data/greatschools/review_data_all_states.csv\n"
     ]
    }
   ],
   "source": [
    "import os\n",
    "\n",
    "# Check the current working directory\n",
    "print(\"Current working directory:\", os.getcwd())\n",
    "\n",
    "os.chdir(os.path.dirname(os.getcwd()))\n",
    "\n",
    "# List the files in the current directory\n",
    "print(\"Files in the current directory:\", os.listdir())\n",
    "\n",
    "# Adjust the file path as needed\n",
    "file_path = 'data/greatschools/review_data_all_states.csv'\n",
    "\n",
    "# Check if the file exists\n",
    "if os.path.exists(file_path):\n",
    "\t# The data we scraped from GreatSchools.org review pages\n",
    "\tdata = pd.read_csv(file_path)\n",
    "\tprint(\"File loaded successfully.\")\n",
    "else:\n",
    "\tprint(f\"File not found: {file_path}\")"
   ]
  },
  {
   "cell_type": "code",
   "execution_count": 37,
   "metadata": {},
   "outputs": [
    {
     "data": {
      "text/html": [
       "<div>\n",
       "<style scoped>\n",
       "    .dataframe tbody tr th:only-of-type {\n",
       "        vertical-align: middle;\n",
       "    }\n",
       "\n",
       "    .dataframe tbody tr th {\n",
       "        vertical-align: top;\n",
       "    }\n",
       "\n",
       "    .dataframe thead th {\n",
       "        text-align: right;\n",
       "    }\n",
       "</style>\n",
       "<table border=\"1\" class=\"dataframe\">\n",
       "  <thead>\n",
       "    <tr style=\"text-align: right;\">\n",
       "      <th></th>\n",
       "      <th>universal_id</th>\n",
       "      <th>overview-url</th>\n",
       "      <th>state</th>\n",
       "      <th>reviews</th>\n",
       "      <th>sentiment_scores</th>\n",
       "    </tr>\n",
       "  </thead>\n",
       "  <tbody>\n",
       "    <tr>\n",
       "      <th>0</th>\n",
       "      <td>2613500</td>\n",
       "      <td>https://www.greatschools.org/michigan/clay-tow...</td>\n",
       "      <td>MI</td>\n",
       "      <td>[]</td>\n",
       "      <td>NaN</td>\n",
       "    </tr>\n",
       "    <tr>\n",
       "      <th>1</th>\n",
       "      <td>2613517</td>\n",
       "      <td>https://www.greatschools.org/michigan/clay-tow...</td>\n",
       "      <td>MI</td>\n",
       "      <td>[]</td>\n",
       "      <td>NaN</td>\n",
       "    </tr>\n",
       "    <tr>\n",
       "      <th>2</th>\n",
       "      <td>2613577</td>\n",
       "      <td>https://www.greatschools.org/michigan/clay-tow...</td>\n",
       "      <td>MI</td>\n",
       "      <td>[]</td>\n",
       "      <td>NaN</td>\n",
       "    </tr>\n",
       "    <tr>\n",
       "      <th>3</th>\n",
       "      <td>2600307</td>\n",
       "      <td>https://www.greatschools.org/michigan/algonac/...</td>\n",
       "      <td>MI</td>\n",
       "      <td>[\"it's an experience of a life time\", 'Terribl...</td>\n",
       "      <td>{'neg': 0.058, 'neu': 0.809, 'pos': 0.133, 'co...</td>\n",
       "    </tr>\n",
       "    <tr>\n",
       "      <th>4</th>\n",
       "      <td>2600311</td>\n",
       "      <td>https://www.greatschools.org/michigan/clay/311...</td>\n",
       "      <td>MI</td>\n",
       "      <td>[]</td>\n",
       "      <td>NaN</td>\n",
       "    </tr>\n",
       "  </tbody>\n",
       "</table>\n",
       "</div>"
      ],
      "text/plain": [
       "   universal_id                                       overview-url state  \\\n",
       "0       2613500  https://www.greatschools.org/michigan/clay-tow...    MI   \n",
       "1       2613517  https://www.greatschools.org/michigan/clay-tow...    MI   \n",
       "2       2613577  https://www.greatschools.org/michigan/clay-tow...    MI   \n",
       "3       2600307  https://www.greatschools.org/michigan/algonac/...    MI   \n",
       "4       2600311  https://www.greatschools.org/michigan/clay/311...    MI   \n",
       "\n",
       "                                             reviews  \\\n",
       "0                                                 []   \n",
       "1                                                 []   \n",
       "2                                                 []   \n",
       "3  [\"it's an experience of a life time\", 'Terribl...   \n",
       "4                                                 []   \n",
       "\n",
       "                                    sentiment_scores  \n",
       "0                                                NaN  \n",
       "1                                                NaN  \n",
       "2                                                NaN  \n",
       "3  {'neg': 0.058, 'neu': 0.809, 'pos': 0.133, 'co...  \n",
       "4                                                NaN  "
      ]
     },
     "execution_count": 37,
     "metadata": {},
     "output_type": "execute_result"
    }
   ],
   "source": [
    "data.head()"
   ]
  },
  {
   "cell_type": "code",
   "execution_count": 36,
   "metadata": {},
   "outputs": [
    {
     "data": {
      "text/html": [
       "<div>\n",
       "<style scoped>\n",
       "    .dataframe tbody tr th:only-of-type {\n",
       "        vertical-align: middle;\n",
       "    }\n",
       "\n",
       "    .dataframe tbody tr th {\n",
       "        vertical-align: top;\n",
       "    }\n",
       "\n",
       "    .dataframe thead th {\n",
       "        text-align: right;\n",
       "    }\n",
       "</style>\n",
       "<table border=\"1\" class=\"dataframe\">\n",
       "  <thead>\n",
       "    <tr style=\"text-align: right;\">\n",
       "      <th></th>\n",
       "      <th>universal_id</th>\n",
       "    </tr>\n",
       "  </thead>\n",
       "  <tbody>\n",
       "    <tr>\n",
       "      <th>count</th>\n",
       "      <td>1.961200e+04</td>\n",
       "    </tr>\n",
       "    <tr>\n",
       "      <th>mean</th>\n",
       "      <td>2.688328e+06</td>\n",
       "    </tr>\n",
       "    <tr>\n",
       "      <th>std</th>\n",
       "      <td>1.413926e+06</td>\n",
       "    </tr>\n",
       "    <tr>\n",
       "      <th>min</th>\n",
       "      <td>1.700001e+06</td>\n",
       "    </tr>\n",
       "    <tr>\n",
       "      <th>25%</th>\n",
       "      <td>1.707079e+06</td>\n",
       "    </tr>\n",
       "    <tr>\n",
       "      <th>50%</th>\n",
       "      <td>1.803452e+06</td>\n",
       "    </tr>\n",
       "    <tr>\n",
       "      <th>75%</th>\n",
       "      <td>2.608144e+06</td>\n",
       "    </tr>\n",
       "    <tr>\n",
       "      <th>max</th>\n",
       "      <td>5.507432e+06</td>\n",
       "    </tr>\n",
       "  </tbody>\n",
       "</table>\n",
       "</div>"
      ],
      "text/plain": [
       "       universal_id\n",
       "count  1.961200e+04\n",
       "mean   2.688328e+06\n",
       "std    1.413926e+06\n",
       "min    1.700001e+06\n",
       "25%    1.707079e+06\n",
       "50%    1.803452e+06\n",
       "75%    2.608144e+06\n",
       "max    5.507432e+06"
      ]
     },
     "execution_count": 36,
     "metadata": {},
     "output_type": "execute_result"
    }
   ],
   "source": [
    "data.describe()"
   ]
  },
  {
   "cell_type": "code",
   "execution_count": 38,
   "metadata": {},
   "outputs": [
    {
     "name": "stdout",
     "output_type": "stream",
     "text": [
      "<class 'pandas.core.frame.DataFrame'>\n",
      "RangeIndex: 19612 entries, 0 to 19611\n",
      "Data columns (total 5 columns):\n",
      " #   Column            Non-Null Count  Dtype \n",
      "---  ------            --------------  ----- \n",
      " 0   universal_id      19612 non-null  int64 \n",
      " 1   overview-url      19612 non-null  object\n",
      " 2   state             19612 non-null  object\n",
      " 3   reviews           19612 non-null  object\n",
      " 4   sentiment_scores  8519 non-null   object\n",
      "dtypes: int64(1), object(4)\n",
      "memory usage: 766.2+ KB\n"
     ]
    }
   ],
   "source": [
    "data.info()"
   ]
  },
  {
   "cell_type": "code",
   "execution_count": 39,
   "metadata": {},
   "outputs": [
    {
     "data": {
      "text/plain": [
       "universal_id        0\n",
       "overview-url        0\n",
       "state               0\n",
       "reviews             0\n",
       "sentiment_scores    0\n",
       "dtype: int64"
      ]
     },
     "execution_count": 39,
     "metadata": {},
     "output_type": "execute_result"
    }
   ],
   "source": [
    "# Check for missing values\n",
    "review_na = data['reviews'].isna()\n",
    "data[review_na].count()"
   ]
  },
  {
   "cell_type": "code",
   "execution_count": 12,
   "metadata": {},
   "outputs": [
    {
     "data": {
      "text/plain": [
       "universal_id        11093\n",
       "overview-url        11093\n",
       "state               11093\n",
       "reviews             11093\n",
       "sentiment_scores        0\n",
       "dtype: int64"
      ]
     },
     "execution_count": 12,
     "metadata": {},
     "output_type": "execute_result"
    }
   ],
   "source": [
    "# check how many rows has no reviews\n",
    "no_review = data['reviews'] == '[]'\n",
    "data[no_review].count()"
   ]
  },
  {
   "cell_type": "code",
   "execution_count": 40,
   "metadata": {},
   "outputs": [
    {
     "data": {
      "text/plain": [
       "19612"
      ]
     },
     "execution_count": 40,
     "metadata": {},
     "output_type": "execute_result"
    }
   ],
   "source": [
    "num_row = data.shape[0]\n",
    "num_row"
   ]
  },
  {
   "cell_type": "code",
   "execution_count": 41,
   "metadata": {},
   "outputs": [
    {
     "data": {
      "text/plain": [
       "universal_id        56.562309\n",
       "overview-url        56.562309\n",
       "state               56.562309\n",
       "reviews             56.562309\n",
       "sentiment_scores     0.000000\n",
       "dtype: float64"
      ]
     },
     "execution_count": 41,
     "metadata": {},
     "output_type": "execute_result"
    }
   ],
   "source": [
    "percentage_no_review = data[no_review].count() / num_row * 100\n",
    "percentage_no_review"
   ]
  },
  {
   "cell_type": "code",
   "execution_count": 42,
   "metadata": {},
   "outputs": [
    {
     "data": {
      "text/html": [
       "<div>\n",
       "<style scoped>\n",
       "    .dataframe tbody tr th:only-of-type {\n",
       "        vertical-align: middle;\n",
       "    }\n",
       "\n",
       "    .dataframe tbody tr th {\n",
       "        vertical-align: top;\n",
       "    }\n",
       "\n",
       "    .dataframe thead th {\n",
       "        text-align: right;\n",
       "    }\n",
       "</style>\n",
       "<table border=\"1\" class=\"dataframe\">\n",
       "  <thead>\n",
       "    <tr style=\"text-align: right;\">\n",
       "      <th></th>\n",
       "      <th>universal_id</th>\n",
       "      <th>overview-url</th>\n",
       "      <th>reviews</th>\n",
       "      <th>sentiment_scores</th>\n",
       "    </tr>\n",
       "    <tr>\n",
       "      <th>state</th>\n",
       "      <th></th>\n",
       "      <th></th>\n",
       "      <th></th>\n",
       "      <th></th>\n",
       "    </tr>\n",
       "  </thead>\n",
       "  <tbody>\n",
       "    <tr>\n",
       "      <th>IL</th>\n",
       "      <td>7273</td>\n",
       "      <td>7273</td>\n",
       "      <td>7273</td>\n",
       "      <td>3166</td>\n",
       "    </tr>\n",
       "    <tr>\n",
       "      <th>IN</th>\n",
       "      <td>3297</td>\n",
       "      <td>3297</td>\n",
       "      <td>3297</td>\n",
       "      <td>1418</td>\n",
       "    </tr>\n",
       "    <tr>\n",
       "      <th>MI</th>\n",
       "      <td>5310</td>\n",
       "      <td>5310</td>\n",
       "      <td>5310</td>\n",
       "      <td>2382</td>\n",
       "    </tr>\n",
       "    <tr>\n",
       "      <th>WI</th>\n",
       "      <td>3732</td>\n",
       "      <td>3732</td>\n",
       "      <td>3732</td>\n",
       "      <td>1553</td>\n",
       "    </tr>\n",
       "  </tbody>\n",
       "</table>\n",
       "</div>"
      ],
      "text/plain": [
       "       universal_id  overview-url  reviews  sentiment_scores\n",
       "state                                                       \n",
       "IL             7273          7273     7273              3166\n",
       "IN             3297          3297     3297              1418\n",
       "MI             5310          5310     5310              2382\n",
       "WI             3732          3732     3732              1553"
      ]
     },
     "execution_count": 42,
     "metadata": {},
     "output_type": "execute_result"
    }
   ],
   "source": [
    "# Check descriptives for each state\n",
    "groupby_state = data.groupby('state')\n",
    "groupby_state.describe()\n",
    "groupby_state.count()"
   ]
  },
  {
   "cell_type": "code",
   "execution_count": 43,
   "metadata": {},
   "outputs": [
    {
     "data": {
      "text/plain": [
       "<Axes: xlabel='state'>"
      ]
     },
     "execution_count": 43,
     "metadata": {},
     "output_type": "execute_result"
    },
    {
     "data": {
      "image/png": "[encoded data removed]",
      "text/plain": [
       "<Figure size 640x480 with 1 Axes>"
      ]
     },
     "metadata": {},
     "output_type": "display_data"
    }
   ],
   "source": [
    "data['state'].value_counts()\n",
    "data['state'].value_counts().plot(kind='bar')"
   ]
  },
  {
   "cell_type": "code",
   "execution_count": 45,
   "metadata": {},
   "outputs": [
    {
     "data": {
      "text/plain": [
       "<Axes: xlabel='state'>"
      ]
     },
     "execution_count": 45,
     "metadata": {},
     "output_type": "execute_result"
    },
    {
     "data": {
      "image/png": "[encoded data removed]",
      "text/plain": [
       "<Figure size 640x480 with 1 Axes>"
      ]
     },
     "metadata": {},
     "output_type": "display_data"
    }
   ],
   "source": [
    "data_not_empty = data[~no_review]\n",
    "data_not_empty['state'].value_counts().plot(kind='bar')"
   ]
  },
  {
   "cell_type": "code",
   "execution_count": 47,
   "metadata": {},
   "outputs": [
    {
     "data": {
      "text/html": [
       "<div>\n",
       "<style scoped>\n",
       "    .dataframe tbody tr th:only-of-type {\n",
       "        vertical-align: middle;\n",
       "    }\n",
       "\n",
       "    .dataframe tbody tr th {\n",
       "        vertical-align: top;\n",
       "    }\n",
       "\n",
       "    .dataframe thead th {\n",
       "        text-align: right;\n",
       "    }\n",
       "</style>\n",
       "<table border=\"1\" class=\"dataframe\">\n",
       "  <thead>\n",
       "    <tr style=\"text-align: right;\">\n",
       "      <th></th>\n",
       "      <th>universal_id</th>\n",
       "      <th>overview-url</th>\n",
       "      <th>state</th>\n",
       "      <th>reviews</th>\n",
       "      <th>sentiment_scores</th>\n",
       "    </tr>\n",
       "  </thead>\n",
       "  <tbody>\n",
       "    <tr>\n",
       "      <th>3</th>\n",
       "      <td>2600307</td>\n",
       "      <td>https://www.greatschools.org/michigan/algonac/...</td>\n",
       "      <td>MI</td>\n",
       "      <td>[\"it's an experience of a life time\", 'Terribl...</td>\n",
       "      <td>{'neg': 0.058, 'neu': 0.809, 'pos': 0.133, 'co...</td>\n",
       "    </tr>\n",
       "    <tr>\n",
       "      <th>5</th>\n",
       "      <td>2600334</td>\n",
       "      <td>https://www.greatschools.org/michigan/almont/3...</td>\n",
       "      <td>MI</td>\n",
       "      <td>['This school needs work. The bulling is a maj...</td>\n",
       "      <td>{'neg': 0.124, 'neu': 0.739, 'pos': 0.137, 'co...</td>\n",
       "    </tr>\n",
       "    <tr>\n",
       "      <th>6</th>\n",
       "      <td>2600335</td>\n",
       "      <td>https://www.greatschools.org/michigan/almont/3...</td>\n",
       "      <td>MI</td>\n",
       "      <td>['The ENTIRE school district has lack of commu...</td>\n",
       "      <td>{'neg': 0.115, 'neu': 0.746, 'pos': 0.139, 'co...</td>\n",
       "    </tr>\n",
       "    <tr>\n",
       "      <th>9</th>\n",
       "      <td>2600395</td>\n",
       "      <td>https://www.greatschools.org/michigan/armada/3...</td>\n",
       "      <td>MI</td>\n",
       "      <td>[\"BULLYING\\nMy  son started at Armada Middle 3...</td>\n",
       "      <td>{'neg': 0.054, 'neu': 0.725, 'pos': 0.221, 'co...</td>\n",
       "    </tr>\n",
       "    <tr>\n",
       "      <th>13</th>\n",
       "      <td>2605010</td>\n",
       "      <td>https://www.greatschools.org/michigan/armada/5...</td>\n",
       "      <td>MI</td>\n",
       "      <td>['Excellent school district. Has all the extra...</td>\n",
       "      <td>{'neg': 0.0, 'neu': 0.766, 'pos': 0.234, 'comp...</td>\n",
       "    </tr>\n",
       "  </tbody>\n",
       "</table>\n",
       "</div>"
      ],
      "text/plain": [
       "    universal_id                                       overview-url state  \\\n",
       "3        2600307  https://www.greatschools.org/michigan/algonac/...    MI   \n",
       "5        2600334  https://www.greatschools.org/michigan/almont/3...    MI   \n",
       "6        2600335  https://www.greatschools.org/michigan/almont/3...    MI   \n",
       "9        2600395  https://www.greatschools.org/michigan/armada/3...    MI   \n",
       "13       2605010  https://www.greatschools.org/michigan/armada/5...    MI   \n",
       "\n",
       "                                              reviews  \\\n",
       "3   [\"it's an experience of a life time\", 'Terribl...   \n",
       "5   ['This school needs work. The bulling is a maj...   \n",
       "6   ['The ENTIRE school district has lack of commu...   \n",
       "9   [\"BULLYING\\nMy  son started at Armada Middle 3...   \n",
       "13  ['Excellent school district. Has all the extra...   \n",
       "\n",
       "                                     sentiment_scores  \n",
       "3   {'neg': 0.058, 'neu': 0.809, 'pos': 0.133, 'co...  \n",
       "5   {'neg': 0.124, 'neu': 0.739, 'pos': 0.137, 'co...  \n",
       "6   {'neg': 0.115, 'neu': 0.746, 'pos': 0.139, 'co...  \n",
       "9   {'neg': 0.054, 'neu': 0.725, 'pos': 0.221, 'co...  \n",
       "13  {'neg': 0.0, 'neu': 0.766, 'pos': 0.234, 'comp...  "
      ]
     },
     "execution_count": 47,
     "metadata": {},
     "output_type": "execute_result"
    }
   ],
   "source": [
    "data_not_empty = data_not_empty.copy()\n",
    "data_not_empty.head()"
   ]
  },
  {
   "cell_type": "code",
   "execution_count": 48,
   "metadata": {},
   "outputs": [
    {
     "name": "stdout",
     "output_type": "stream",
     "text": [
      "3     {'neg': 0.058, 'neu': 0.809, 'pos': 0.133, 'co...\n",
      "5     {'neg': 0.124, 'neu': 0.739, 'pos': 0.137, 'co...\n",
      "6     {'neg': 0.115, 'neu': 0.746, 'pos': 0.139, 'co...\n",
      "9     {'neg': 0.054, 'neu': 0.725, 'pos': 0.221, 'co...\n",
      "13    {'neg': 0.0, 'neu': 0.766, 'pos': 0.234, 'comp...\n",
      "Name: sentiment_scores, dtype: object\n"
     ]
    }
   ],
   "source": [
    "print(data_not_empty['sentiment_scores'].head())"
   ]
  },
  {
   "cell_type": "code",
   "execution_count": 49,
   "metadata": {},
   "outputs": [
    {
     "data": {
      "text/plain": [
       "{'neg': 0.058, 'neu': 0.809, 'pos': 0.133, 'compound': 0.9787}"
      ]
     },
     "execution_count": 49,
     "metadata": {},
     "output_type": "execute_result"
    }
   ],
   "source": [
    "\n",
    "senti_res = data_not_empty['sentiment_scores'].iloc[0]\n",
    "\n",
    "senti_res\n",
    "\n",
    "# convert the result string to dictionary\n",
    "import ast\n",
    "senti_res_dict = ast.literal_eval(senti_res)\n",
    "senti_res_dict"
   ]
  },
  {
   "cell_type": "code",
   "execution_count": 50,
   "metadata": {},
   "outputs": [],
   "source": [
    "def parse_dict(x):\n",
    "    # If the cell is NaN or None, just return NaN\n",
    "    if pd.isnull(x):\n",
    "        return np.nan\n",
    "    else:\n",
    "        # Convert string to a dictionary\n",
    "        return ast.literal_eval(x)\n",
    "\n",
    "\n",
    "# Apply parse_dict to each value in 'sentiment_scores'\n",
    "data_not_empty['sentiment_scores_dict'] = data_not_empty['sentiment_scores'].apply(parse_dict)\n"
   ]
  },
  {
   "cell_type": "code",
   "execution_count": 55,
   "metadata": {},
   "outputs": [
    {
     "data": {
      "text/plain": [
       "3     {'neg': 0.058, 'neu': 0.809, 'pos': 0.133, 'co...\n",
       "5     {'neg': 0.124, 'neu': 0.739, 'pos': 0.137, 'co...\n",
       "6     {'neg': 0.115, 'neu': 0.746, 'pos': 0.139, 'co...\n",
       "9     {'neg': 0.054, 'neu': 0.725, 'pos': 0.221, 'co...\n",
       "13    {'neg': 0.0, 'neu': 0.766, 'pos': 0.234, 'comp...\n",
       "Name: sentiment_scores_dict, dtype: object"
      ]
     },
     "execution_count": 55,
     "metadata": {},
     "output_type": "execute_result"
    }
   ],
   "source": [
    "data_not_empty['sentiment_scores_dict'].head()\n"
   ]
  },
  {
   "cell_type": "code",
   "execution_count": 56,
   "metadata": {},
   "outputs": [
    {
     "data": {
      "text/plain": [
       "dict"
      ]
     },
     "execution_count": 56,
     "metadata": {},
     "output_type": "execute_result"
    }
   ],
   "source": [
    "type(data_not_empty['sentiment_scores_dict'].iloc[1])"
   ]
  },
  {
   "cell_type": "code",
   "execution_count": 57,
   "metadata": {},
   "outputs": [
    {
     "name": "stdout",
     "output_type": "stream",
     "text": [
      "0 {'neg': 0.058, 'neu': 0.809, 'pos': 0.133, 'compound': 0.9787} <class 'dict'>\n",
      "1 {'neg': 0.124, 'neu': 0.739, 'pos': 0.137, 'compound': 0.8351} <class 'dict'>\n",
      "2 {'neg': 0.115, 'neu': 0.746, 'pos': 0.139, 'compound': 0.9828} <class 'dict'>\n",
      "3 {'neg': 0.054, 'neu': 0.725, 'pos': 0.221, 'compound': 0.9996} <class 'dict'>\n",
      "4 {'neg': 0.0, 'neu': 0.766, 'pos': 0.234, 'compound': 0.9722} <class 'dict'>\n",
      "5 {'neg': 0.127, 'neu': 0.764, 'pos': 0.108, 'compound': -0.7523} <class 'dict'>\n",
      "6 {'neg': 0.092, 'neu': 0.647, 'pos': 0.261, 'compound': 0.9982} <class 'dict'>\n",
      "7 {'neg': 0.084, 'neu': 0.701, 'pos': 0.215, 'compound': 0.9996} <class 'dict'>\n",
      "8 {'neg': 0.058, 'neu': 0.746, 'pos': 0.196, 'compound': 0.9998} <class 'dict'>\n",
      "9 {'neg': 0.015, 'neu': 0.859, 'pos': 0.126, 'compound': 0.9936} <class 'dict'>\n"
     ]
    }
   ],
   "source": [
    "for i, val in enumerate(data_not_empty['sentiment_scores_dict'].head(10)):\n",
    "    print(i, val, type(val))"
   ]
  },
  {
   "cell_type": "code",
   "execution_count": 63,
   "metadata": {},
   "outputs": [
    {
     "name": "stdout",
     "output_type": "stream",
     "text": [
      "                                              reviews\n",
      "3   [\"it's an experience of a life time\", 'Terribl...\n",
      "5   ['This school needs work. The bulling is a maj...\n",
      "6   ['The ENTIRE school district has lack of commu...\n",
      "9   [\"BULLYING\\nMy  son started at Armada Middle 3...\n",
      "13  ['Excellent school district. Has all the extra...\n",
      "15  ['Top Notch education!  Best in St.Clair Count...\n",
      "18  ['I believe this school needs an overhaul and ...\n",
      "19  ['The teachers were horrific. Would never reco...\n",
      "20  ['The biggest problem with Eton Academy is tha...\n",
      "21  ['Gateway Montessori School is a friendly cari...\n"
     ]
    }
   ],
   "source": [
    "print(data_not_empty[['reviews']].head(10))"
   ]
  },
  {
   "cell_type": "code",
   "execution_count": 58,
   "metadata": {},
   "outputs": [],
   "source": [
    "import seaborn as sns\n",
    "import matplotlib.pyplot as plt\n"
   ]
  },
  {
   "cell_type": "code",
   "execution_count": 60,
   "metadata": {},
   "outputs": [
    {
     "data": {
      "image/png": "[encoded data removed]",
      "text/plain": [
       "<Figure size 640x480 with 1 Axes>"
      ]
     },
     "metadata": {},
     "output_type": "display_data"
    }
   ],
   "source": [
    "sns.histplot(data=data_not_empty, x=(data_not_empty['sentiment_scores_dict']=='compound'), bins=20, kde=True)\n",
    "plt.title(\"Distribution of Compound Sentiment Scores\")\n",
    "plt.xlabel(\"Compound Score\")\n",
    "plt.ylabel(\"Frequency\")\n",
    "plt.show()"
   ]
  },
  {
   "cell_type": "code",
   "execution_count": 65,
   "metadata": {},
   "outputs": [
    {
     "data": {
      "image/png": "[encoded data removed]",
      "text/plain": [
       "<Figure size 640x480 with 1 Axes>"
      ]
     },
     "metadata": {},
     "output_type": "display_data"
    }
   ],
   "source": [
    "sns.histplot(data=data_not_empty, x=(data_not_empty['sentiment_scores_dict']=='neg'), bins=20, kde=True)\n",
    "plt.title(\"Distribution of Negative Sentiment Scores\")\n",
    "plt.xlim(-0.2, 0.2)\n",
    "plt.xlabel(\"Negative Score\")\n",
    "plt.ylabel(\"Frequency\")\n",
    "plt.show()"
   ]
  },
  {
   "cell_type": "code",
   "execution_count": 64,
   "metadata": {},
   "outputs": [
    {
     "data": {
      "image/png": "[encoded data removed]",
      "text/plain": [
       "<Figure size 640x480 with 1 Axes>"
      ]
     },
     "metadata": {},
     "output_type": "display_data"
    }
   ],
   "source": [
    "sns.histplot(data=data_not_empty, x=(data_not_empty['sentiment_scores_dict']=='pos'), bins=20, kde=True)\n",
    "plt.title(\"Distribution of Postitive Sentiment Scores\")\n",
    "plt.xlim(-0.2, 0.2)\n",
    "plt.xlabel(\"Positive Score\")\n",
    "plt.ylabel(\"Frequency\")\n",
    "plt.show()"
   ]
  }
 ],
 "metadata": {
  "kernelspec": {
   "display_name": "base",
   "language": "python",
   "name": "python3"
  },
  "language_info": {
   "codemirror_mode": {
    "name": "ipython",
    "version": 3
   },
   "file_extension": ".py",
   "mimetype": "text/x-python",
   "name": "python",
   "nbconvert_exporter": "python",
   "pygments_lexer": "ipython3",
   "version": "3.12.2"
  }
 },
 "nbformat": 4,
 "nbformat_minor": 2
}
